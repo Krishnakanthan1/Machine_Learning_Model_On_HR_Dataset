{
  "nbformat": 4,
  "nbformat_minor": 0,
  "metadata": {
    "colab": {
      "provenance": []
    },
    "kernelspec": {
      "name": "python3",
      "display_name": "Python 3"
    },
    "language_info": {
      "name": "python"
    }
  },
  "cells": [
    {
      "cell_type": "code",
      "execution_count": null,
      "metadata": {
        "id": "kumyTEuSS5RS"
      },
      "outputs": [],
      "source": [
        "import pandas as pd\n",
        "import numpy as np\n",
        "from sklearn.preprocessing import StandardScaler, OneHotEncoder\n",
        "from sklearn.model_selection import train_test_split\n",
        "from sklearn.compose import make_column_transformer\n",
        "from sklearn.pipeline import make_pipeline\n",
        "from sklearn.metrics import mean_squared_error, r2_score\n",
        "from sklearn.linear_model import LinearRegression\n",
        "from sklearn.ensemble import RandomForestRegressor\n",
        "from sklearn.decomposition import PCA\n",
        "from sklearn import metrics\n",
        "\n",
        "\n",
        "df = pd.read_csv('/content/MFGEmployees4.csv')\n",
        "\n",
        "selected_features = [\"Gender\", \"City\", \"JobTitle\", \"LengthService\", \"DepartmentName\", \"Division\", \"Age\", \"BusinessUnit\"]\n",
        "df_selected = df[selected_features]\n",
        "\n",
        "X = df_selected\n",
        "y = df[\"AbsentHours\"]\n",
        "\n",
        "numeric_features = X.select_dtypes(include=['int64', 'float64']).columns\n",
        "categorical_features = X.select_dtypes(include=['object']).columns"
      ]
    },
    {
      "cell_type": "code",
      "source": [
        "# Creating a column transformer\n",
        "ct = make_column_transformer(\n",
        "    (StandardScaler(), numeric_features),\n",
        "    (OneHotEncoder(handle_unknown='ignore'), categorical_features),\n",
        "    remainder=\"drop\"\n",
        ")\n",
        "\n",
        "pipeline = make_pipeline(\n",
        "    ct,\n",
        "    LinearRegression()\n",
        ")\n",
        "\n",
        "# Split the data into training and testing sets\n",
        "X_train, X_test, y_train, y_test = train_test_split(X, y, test_size=0.3, random_state=7)\n",
        "\n",
        "# Fit the pipeline with X and y data\n",
        "pipeline.fit(X_train, y_train)\n",
        "\n",
        "y_pred_mlr = pipeline.predict(X_test)\n",
        "\n",
        "print('Mean Absolute Error of mlr model:', metrics.mean_absolute_error(y_test, y_pred_mlr))\n",
        "print('Mean Squared Error of mlr model:', metrics.mean_squared_error(y_test, y_pred_mlr))\n",
        "print('Root Mean Squared Error of mlr model:', np.sqrt(metrics.mean_squared_error(y_test, y_pred_mlr)))\n",
        "print('R2 score of mlr model:', r2_score(y_test, y_pred_mlr))"
      ],
      "metadata": {
        "colab": {
          "base_uri": "https://localhost:8080/"
        },
        "id": "ZEIkcqxLTrs0",
        "outputId": "1cb7da78-94f2-4747-c2ba-f9470c7970c3"
      },
      "execution_count": null,
      "outputs": [
        {
          "output_type": "stream",
          "name": "stdout",
          "text": [
            "Mean Absolute Error of mlr model: 20.767119902476562\n",
            "Mean Squared Error of mlr model: 693.3532058105454\n",
            "Root Mean Squared Error of mlr model: 26.331600897221296\n",
            "R2 score of mlr model: 0.7127034160664812\n"
          ]
        }
      ]
    },
    {
      "cell_type": "code",
      "source": [
        "# Creating a column transformer\n",
        "ct = make_column_transformer(\n",
        "    (StandardScaler(), numeric_features),\n",
        "    (OneHotEncoder(handle_unknown='ignore'), categorical_features),\n",
        "    remainder=\"drop\"\n",
        ")\n",
        "\n",
        "# Create a pipeline with the column transformer and the regressor\n",
        "pipeline = make_pipeline(ct, RandomForestRegressor(n_estimators=10, random_state=0))\n",
        "\n",
        "# Split the data into training and testing sets\n",
        "X_train, X_test, y_train, y_test = train_test_split(X, y, test_size=0.3, random_state=7)\n",
        "\n",
        "# Fit the pipeline with X and y data\n",
        "pipeline.fit(X_train, y_train)\n",
        "\n",
        "y_pred_rfr= pipeline.predict(X_test)\n",
        "print('Mean Absolute Error of rfr model:', metrics.mean_absolute_error(y_test, y_pred_rfr))\n",
        "print('Mean Squared Error of rfr model:', metrics.mean_squared_error(y_test, y_pred_rfr))\n",
        "print('Root Mean Squared Error of rfr model:', np.sqrt(metrics.mean_squared_error(y_test, y_pred_rfr)))\n",
        "print('R2 score of rfr model:', r2_score(y_test, y_pred_rfr))"
      ],
      "metadata": {
        "colab": {
          "base_uri": "https://localhost:8080/"
        },
        "id": "vu2vA_-mUtaL",
        "outputId": "a71f6dc9-efec-4a97-bf60-a22dc9ec2d2d"
      },
      "execution_count": null,
      "outputs": [
        {
          "output_type": "stream",
          "name": "stdout",
          "text": [
            "Mean Absolute Error of rfr model: 19.56915553754678\n",
            "Mean Squared Error of rfr model: 661.9906872742285\n",
            "Root Mean Squared Error of rfr model: 25.729179685217883\n",
            "R2 score of rfr model: 0.7256987326865323\n"
          ]
        }
      ]
    },
    {
      "cell_type": "code",
      "source": [
        "ct = make_column_transformer(\n",
        "    (StandardScaler(), numeric_features),\n",
        "    (OneHotEncoder(handle_unknown='ignore', sparse=False), categorical_features),  # Set sparse=False\n",
        "    remainder=\"passthrough\"  # Keep any remaining columns as they are\n",
        ")\n",
        "\n",
        "# Create a PCA transformer\n",
        "pca = PCA(n_components=7)  # You can adjust the number of components as needed\n",
        "\n",
        "# Create a pipeline with PCA and MLR\n",
        "pipeline = make_pipeline(\n",
        "    ct,\n",
        "    pca,\n",
        "    LinearRegression()\n",
        ")\n",
        "\n",
        "# Fit the pipeline\n",
        "pipeline.fit(X_train, y_train)\n",
        "\n",
        "# Make predictions on the test set\n",
        "y_pred_mlrpca = pipeline.predict(X_test)\n",
        "print('Mean Absolute Error of mlr with pca model:', metrics.mean_absolute_error(y_test, y_pred_mlrpca))\n",
        "print('Mean Squared Error of mlr with pca model:', metrics.mean_squared_error(y_test, y_pred_mlrpca))\n",
        "print('Root Mean Squared Error of mlr with pca model:', np.sqrt(metrics.mean_squared_error(y_test, y_pred_mlrpca)))\n",
        "print('R2 score of mlr with pca model:', r2_score(y_test, y_pred_mlrpca))\n"
      ],
      "metadata": {
        "colab": {
          "base_uri": "https://localhost:8080/"
        },
        "id": "IhAAjJr6VPsw",
        "outputId": "e480ca3c-9eb5-4cd0-fe6c-2c61332c6406"
      },
      "execution_count": null,
      "outputs": [
        {
          "output_type": "stream",
          "name": "stderr",
          "text": [
            "/usr/local/lib/python3.10/dist-packages/sklearn/preprocessing/_encoders.py:868: FutureWarning: `sparse` was renamed to `sparse_output` in version 1.2 and will be removed in 1.4. `sparse_output` is ignored unless you leave `sparse` to its default value.\n",
            "  warnings.warn(\n"
          ]
        },
        {
          "output_type": "stream",
          "name": "stdout",
          "text": [
            "Mean Absolute Error of mlr with pca model: 20.2422848933139\n",
            "Mean Squared Error of mlr with pca model: 657.3262822338991\n",
            "Root Mean Squared Error of mlr with pca model: 25.638375187088183\n",
            "R2 score of mlr with pca model: 0.7276314671470334\n"
          ]
        }
      ]
    },
    {
      "cell_type": "code",
      "source": [
        "# Create a column transformer\n",
        "ct = make_column_transformer(\n",
        "    (StandardScaler(), numeric_features),\n",
        "    (OneHotEncoder(handle_unknown='ignore',sparse=False), categorical_features),\n",
        "    remainder=\"passthrough\"\n",
        ")\n",
        "\n",
        "# Create a PCA transformer\n",
        "pca = PCA(n_components=8)\n",
        "\n",
        "# Create a pipeline with the column transformer, PCA, and the regressor\n",
        "pipeline = make_pipeline(\n",
        "    ct,\n",
        "    pca,\n",
        "    RandomForestRegressor(n_estimators=10, random_state=0)\n",
        ")\n",
        "\n",
        "# Split the data into training and testing sets\n",
        "X_train, X_test, y_train, y_test = train_test_split(X, y, test_size=0.3, random_state=7)\n",
        "\n",
        "# Fit the pipeline with X and y data\n",
        "pipeline.fit(X_train, y_train)\n",
        "# Make predictions on the test set\n",
        "y_pred_rfrpca = pipeline.predict(X_test)\n",
        "\n",
        "print('Mean Absolute Error of rfr with pca model:', metrics.mean_absolute_error(y_test, y_pred_rfrpca))\n",
        "print('Mean Squared Error of rfr with pca model:', metrics.mean_squared_error(y_test, y_pred_rfrpca))\n",
        "print('Root Mean Squared Error of rfr with pca model:', np.sqrt(metrics.mean_squared_error(y_test, y_pred_rfrpca)))\n",
        "print('R2 score of rfr with pca model:', r2_score(y_test, y_pred_rfrpca))"
      ],
      "metadata": {
        "colab": {
          "base_uri": "https://localhost:8080/"
        },
        "id": "FcSg3OMGVp63",
        "outputId": "9c0de0c2-5ae1-48da-ad0c-e5867346f881"
      },
      "execution_count": null,
      "outputs": [
        {
          "output_type": "stream",
          "name": "stderr",
          "text": [
            "/usr/local/lib/python3.10/dist-packages/sklearn/preprocessing/_encoders.py:868: FutureWarning: `sparse` was renamed to `sparse_output` in version 1.2 and will be removed in 1.4. `sparse_output` is ignored unless you leave `sparse` to its default value.\n",
            "  warnings.warn(\n"
          ]
        },
        {
          "output_type": "stream",
          "name": "stdout",
          "text": [
            "Mean Absolute Error of rfr with pca model: 20.01116773832743\n",
            "Mean Squared Error of rfr with pca model: 692.1667307870007\n",
            "Root Mean Squared Error of rfr with pca model: 26.309061761815084\n",
            "R2 score of rfr with pca model: 0.7131950417174917\n"
          ]
        }
      ]
    },
    {
      "cell_type": "code",
      "source": [],
      "metadata": {
        "id": "Fp6yZXMEXc-V"
      },
      "execution_count": null,
      "outputs": []
    }
  ]
}